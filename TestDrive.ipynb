{
 "cells": [
  {
   "cell_type": "code",
   "execution_count": 1,
   "metadata": {},
   "outputs": [
    {
     "name": "stdout",
     "output_type": "stream",
     "text": [
      "Hello, Jupyter!\n"
     ]
    }
   ],
   "source": [
    "print(\"Hello, Jupyter!\")"
   ]
  },
  {
   "cell_type": "code",
   "execution_count": 2,
   "metadata": {},
   "outputs": [
    {
     "name": "stdout",
     "output_type": "stream",
     "text": [
      "Bukola is Learning how to use Jupyter!\n"
     ]
    }
   ],
   "source": [
    "print(\"Bukola is Learning how to use Jupyter!\")"
   ]
  },
  {
   "cell_type": "code",
   "execution_count": 1,
   "metadata": {},
   "outputs": [
    {
     "name": "stdout",
     "output_type": "stream",
     "text": [
      "Sorted numbers: [1, 2, 3, 5, 8, 9]\n"
     ]
    }
   ],
   "source": [
    "# Define a list of integers\n",
    "numbers = [5, 2, 8, 1, 9, 3]\n",
    "\n",
    "# Sort the list in ascending order\n",
    "sorted_numbers = sorted(numbers)\n",
    "\n",
    "# Print the sorted list\n",
    "print(\"Sorted numbers:\", sorted_numbers)\n"
   ]
  },
  {
   "cell_type": "code",
   "execution_count": 2,
   "metadata": {},
   "outputs": [
    {
     "name": "stdout",
     "output_type": "stream",
     "text": [
      "Sorted numbers: [1, 2, 3, 5, 8, 9]\n"
     ]
    }
   ],
   "source": [
    "# Define a list of integers\n",
    "numbers = [5, 2, 8, 1, 9, 3]\n",
    "\n",
    "# Sort the list in ascending order\n",
    "sorted_numbers = sorted(numbers)\n",
    "\n",
    "# Print the sorted list\n",
    "print(\"Sorted numbers:\", sorted_numbers)\n"
   ]
  },
  {
   "cell_type": "code",
   "execution_count": 3,
   "metadata": {},
   "outputs": [
    {
     "name": "stdout",
     "output_type": "stream",
     "text": [
      "Sum of even numbers between 1 and 10 is: 30\n"
     ]
    }
   ],
   "source": [
    "def sum_of_even_numbers(n):\n",
    "    total = 0\n",
    "    for i in range(2, n+1, 2):  # Start from 2 and iterate over even numbers\n",
    "        total += i\n",
    "    return total\n",
    "\n",
    "# Test the function with a given number\n",
    "given_number = 10\n",
    "result = sum_of_even_numbers(given_number)\n",
    "print(\"Sum of even numbers between 1 and\", given_number, \"is:\", result)\n"
   ]
  },
  {
   "cell_type": "code",
   "execution_count": 4,
   "metadata": {},
   "outputs": [
    {
     "name": "stdout",
     "output_type": "stream",
     "text": [
      "Area of the circle with radius 5 is: 78.53981633974483\n"
     ]
    }
   ],
   "source": [
    "import math\n",
    "\n",
    "def calculate_circle_area(radius):\n",
    "    area = math.pi * radius**2\n",
    "    return area\n",
    "\n",
    "# Test the function with a radius of 5 units\n",
    "radius = 5\n",
    "area = calculate_circle_area(radius)\n",
    "print(\"Area of the circle with radius\", radius, \"is:\", area)\n"
   ]
  },
  {
   "cell_type": "code",
   "execution_count": 6,
   "metadata": {},
   "outputs": [
    {
     "name": "stdout",
     "output_type": "stream",
     "text": [
      "Square root of 16 is: 4.0\n"
     ]
    }
   ],
   "source": [
    "import math\n",
    "\n",
    "# Define a number to calculate its square root\n",
    "number = 16\n",
    "\n",
    "# Calculate the square root\n",
    "square_root = math.sqrt(number)\n",
    "\n",
    "# Print the square root\n",
    "print(\"Square root of\", number, \"is:\", square_root)\n"
   ]
  },
  {
   "cell_type": "code",
   "execution_count": 7,
   "metadata": {},
   "outputs": [
    {
     "name": "stdout",
     "output_type": "stream",
     "text": [
      "Sum of squares of numbers in the list: 55\n"
     ]
    }
   ],
   "source": [
    "def sum_of_squares(numbers):\n",
    "    sum_squares = sum(x**2 for x in numbers)\n",
    "    return sum_squares\n",
    "\n",
    "# Test the function with a list of numbers\n",
    "numbers = [1, 2, 3, 4, 5]\n",
    "result = sum_of_squares(numbers)\n",
    "print(\"Sum of squares of numbers in the list:\", result)\n"
   ]
  },
  {
   "cell_type": "code",
   "execution_count": 8,
   "metadata": {},
   "outputs": [
    {
     "name": "stdout",
     "output_type": "stream",
     "text": [
      "Extracted URLs: ['https://www.example.com,', 'http://example.org,', 'https://example.net']\n"
     ]
    }
   ],
   "source": [
    "import re\n",
    "\n",
    "def extract_urls(text):\n",
    "    url_pattern = r'https?://\\S+'\n",
    "    urls = re.findall(url_pattern, text)\n",
    "    return urls\n",
    "\n",
    "# Test the function with a sample text\n",
    "sample_text = \"Here are some example URLs: https://www.example.com, http://example.org, and https://example.net\"\n",
    "urls = extract_urls(sample_text)\n",
    "print(\"Extracted URLs:\", urls)\n"
   ]
  }
 ],
 "metadata": {
  "kernelspec": {
   "display_name": ".venv",
   "language": "python",
   "name": "python3"
  },
  "language_info": {
   "codemirror_mode": {
    "name": "ipython",
    "version": 3
   },
   "file_extension": ".py",
   "mimetype": "text/x-python",
   "name": "python",
   "nbconvert_exporter": "python",
   "pygments_lexer": "ipython3",
   "version": "3.12.3"
  }
 },
 "nbformat": 4,
 "nbformat_minor": 2
}
